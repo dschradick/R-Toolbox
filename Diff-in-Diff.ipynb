{
 "cells": [
  {
   "cell_type": "code",
   "execution_count": 7,
   "metadata": {},
   "outputs": [],
   "source": [
    "library(tidyverse)\n",
    "library(haven)"
   ]
  },
  {
   "cell_type": "code",
   "execution_count": 27,
   "metadata": {},
   "outputs": [],
   "source": [
    "# Natürliches Experiment\n",
    "# Bestimmung des Effekts Lohnauffüllung durch Lohnsubvenstion - Earned Income Tax Credit\n",
    "#\n",
    "#  Difference-in-differences coefficient” = \\delta_1\n",
    "# \n",
    "# \n",
    "# Ziel: Schätzen des Effekts von EITC auf Beschäftigung für Frauen mit mindestens einem Kind\n",
    "# => Kontrolle: kein kind - bekommt kein EITC"
   ]
  },
  {
   "cell_type": "markdown",
   "metadata": {},
   "source": []
  },
  {
   "cell_type": "code",
   "execution_count": 47,
   "metadata": {},
   "outputs": [
    {
     "data": {
      "text/html": [
       "<ol class=list-inline>\n",
       "\t<li>1991</li>\n",
       "\t<li>1996</li>\n",
       "</ol>\n"
      ],
      "text/latex": [
       "\\begin{enumerate*}\n",
       "\\item 1991\n",
       "\\item 1996\n",
       "\\end{enumerate*}\n"
      ],
      "text/markdown": [
       "1. 1991\n",
       "2. 1996\n",
       "\n",
       "\n"
      ],
      "text/plain": [
       "[1] 1991 1996"
      ]
     },
     "metadata": {},
     "output_type": "display_data"
    }
   ],
   "source": [
    "## Daten einlesen\n",
    "data <- read_dta(\"~/Documents/Data/eitc.dta\")\n",
    "\n",
    "range(data$year)"
   ]
  },
  {
   "cell_type": "code",
   "execution_count": 45,
   "metadata": {},
   "outputs": [],
   "source": [
    "## Dummies erzeugen\n",
    "data <- data %>%\n",
    "    mutate(post93  = year     >= 1994, \n",
    "           anykids = children >= 1)"
   ]
  },
  {
   "cell_type": "code",
   "execution_count": 46,
   "metadata": {},
   "outputs": [
    {
     "data": {
      "text/html": [
       "<table>\n",
       "<caption>A tibble: 6 × 13</caption>\n",
       "<thead>\n",
       "\t<tr><th scope=col>state</th><th scope=col>year</th><th scope=col>urate</th><th scope=col>children</th><th scope=col>nonwhite</th><th scope=col>finc</th><th scope=col>earn</th><th scope=col>age</th><th scope=col>ed</th><th scope=col>work</th><th scope=col>unearn</th><th scope=col>post93</th><th scope=col>anykids</th></tr>\n",
       "\t<tr><th scope=col>&lt;dbl&gt;</th><th scope=col>&lt;dbl&gt;</th><th scope=col>&lt;dbl&gt;</th><th scope=col>&lt;dbl&gt;</th><th scope=col>&lt;dbl&gt;</th><th scope=col>&lt;dbl&gt;</th><th scope=col>&lt;dbl&gt;</th><th scope=col>&lt;dbl&gt;</th><th scope=col>&lt;dbl&gt;</th><th scope=col>&lt;dbl&gt;</th><th scope=col>&lt;dbl&gt;</th><th scope=col>&lt;lgl&gt;</th><th scope=col>&lt;lgl&gt;</th></tr>\n",
       "</thead>\n",
       "<tbody>\n",
       "\t<tr><td>11</td><td>1991</td><td>7.6</td><td>0</td><td>1</td><td>18714.394</td><td>18714.3943</td><td>26</td><td>10</td><td>1</td><td>0.000000</td><td>FALSE</td><td>FALSE</td></tr>\n",
       "\t<tr><td>12</td><td>1991</td><td>7.2</td><td>1</td><td>0</td><td> 4838.568</td><td>  471.3656</td><td>22</td><td> 9</td><td>1</td><td>4.367203</td><td>FALSE</td><td> TRUE</td></tr>\n",
       "\t<tr><td>13</td><td>1991</td><td>6.4</td><td>2</td><td>0</td><td> 8178.194</td><td>    0.0000</td><td>33</td><td>11</td><td>0</td><td>8.178194</td><td>FALSE</td><td> TRUE</td></tr>\n",
       "\t<tr><td>14</td><td>1991</td><td>9.1</td><td>0</td><td>1</td><td> 9369.570</td><td>    0.0000</td><td>43</td><td>11</td><td>0</td><td>9.369570</td><td>FALSE</td><td>FALSE</td></tr>\n",
       "\t<tr><td>15</td><td>1991</td><td>8.6</td><td>3</td><td>1</td><td>14706.608</td><td>14706.6079</td><td>23</td><td> 7</td><td>1</td><td>0.000000</td><td>FALSE</td><td> TRUE</td></tr>\n",
       "\t<tr><td>16</td><td>1991</td><td>6.8</td><td>1</td><td>0</td><td>21605.044</td><td>18854.6256</td><td>53</td><td> 7</td><td>1</td><td>2.750419</td><td>FALSE</td><td> TRUE</td></tr>\n",
       "</tbody>\n",
       "</table>\n"
      ],
      "text/latex": [
       "A tibble: 6 × 13\n",
       "\\begin{tabular}{r|lllllllllllll}\n",
       " state & year & urate & children & nonwhite & finc & earn & age & ed & work & unearn & post93 & anykids\\\\\n",
       " <dbl> & <dbl> & <dbl> & <dbl> & <dbl> & <dbl> & <dbl> & <dbl> & <dbl> & <dbl> & <dbl> & <lgl> & <lgl>\\\\\n",
       "\\hline\n",
       "\t 11 & 1991 & 7.6 & 0 & 1 & 18714.394 & 18714.3943 & 26 & 10 & 1 & 0.000000 & FALSE & FALSE\\\\\n",
       "\t 12 & 1991 & 7.2 & 1 & 0 &  4838.568 &   471.3656 & 22 &  9 & 1 & 4.367203 & FALSE &  TRUE\\\\\n",
       "\t 13 & 1991 & 6.4 & 2 & 0 &  8178.194 &     0.0000 & 33 & 11 & 0 & 8.178194 & FALSE &  TRUE\\\\\n",
       "\t 14 & 1991 & 9.1 & 0 & 1 &  9369.570 &     0.0000 & 43 & 11 & 0 & 9.369570 & FALSE & FALSE\\\\\n",
       "\t 15 & 1991 & 8.6 & 3 & 1 & 14706.608 & 14706.6079 & 23 &  7 & 1 & 0.000000 & FALSE &  TRUE\\\\\n",
       "\t 16 & 1991 & 6.8 & 1 & 0 & 21605.044 & 18854.6256 & 53 &  7 & 1 & 2.750419 & FALSE &  TRUE\\\\\n",
       "\\end{tabular}\n"
      ],
      "text/markdown": [
       "\n",
       "A tibble: 6 × 13\n",
       "\n",
       "| state &lt;dbl&gt; | year &lt;dbl&gt; | urate &lt;dbl&gt; | children &lt;dbl&gt; | nonwhite &lt;dbl&gt; | finc &lt;dbl&gt; | earn &lt;dbl&gt; | age &lt;dbl&gt; | ed &lt;dbl&gt; | work &lt;dbl&gt; | unearn &lt;dbl&gt; | post93 &lt;lgl&gt; | anykids &lt;lgl&gt; |\n",
       "|---|---|---|---|---|---|---|---|---|---|---|---|---|\n",
       "| 11 | 1991 | 7.6 | 0 | 1 | 18714.394 | 18714.3943 | 26 | 10 | 1 | 0.000000 | FALSE | FALSE |\n",
       "| 12 | 1991 | 7.2 | 1 | 0 |  4838.568 |   471.3656 | 22 |  9 | 1 | 4.367203 | FALSE |  TRUE |\n",
       "| 13 | 1991 | 6.4 | 2 | 0 |  8178.194 |     0.0000 | 33 | 11 | 0 | 8.178194 | FALSE |  TRUE |\n",
       "| 14 | 1991 | 9.1 | 0 | 1 |  9369.570 |     0.0000 | 43 | 11 | 0 | 9.369570 | FALSE | FALSE |\n",
       "| 15 | 1991 | 8.6 | 3 | 1 | 14706.608 | 14706.6079 | 23 |  7 | 1 | 0.000000 | FALSE |  TRUE |\n",
       "| 16 | 1991 | 6.8 | 1 | 0 | 21605.044 | 18854.6256 | 53 |  7 | 1 | 2.750419 | FALSE |  TRUE |\n",
       "\n"
      ],
      "text/plain": [
       "  state year urate children nonwhite finc      earn       age ed work unearn  \n",
       "1 11    1991 7.6   0        1        18714.394 18714.3943 26  10 1    0.000000\n",
       "2 12    1991 7.2   1        0         4838.568   471.3656 22   9 1    4.367203\n",
       "3 13    1991 6.4   2        0         8178.194     0.0000 33  11 0    8.178194\n",
       "4 14    1991 9.1   0        1         9369.570     0.0000 43  11 0    9.369570\n",
       "5 15    1991 8.6   3        1        14706.608 14706.6079 23   7 1    0.000000\n",
       "6 16    1991 6.8   1        0        21605.044 18854.6256 53   7 1    2.750419\n",
       "  post93 anykids\n",
       "1 FALSE  FALSE  \n",
       "2 FALSE   TRUE  \n",
       "3 FALSE   TRUE  \n",
       "4 FALSE  FALSE  \n",
       "5 FALSE   TRUE  \n",
       "6 FALSE   TRUE  "
      ]
     },
     "metadata": {},
     "output_type": "display_data"
    }
   ],
   "source": [
    "head(data)"
   ]
  },
  {
   "cell_type": "code",
   "execution_count": 40,
   "metadata": {},
   "outputs": [
    {
     "data": {
      "text/html": [
       "<table>\n",
       "<caption>A grouped_df: 4 × 3</caption>\n",
       "<thead>\n",
       "\t<tr><th scope=col>post93</th><th scope=col>anykids</th><th scope=col>mean</th></tr>\n",
       "\t<tr><th scope=col>&lt;lgl&gt;</th><th scope=col>&lt;lgl&gt;</th><th scope=col>&lt;dbl&gt;</th></tr>\n",
       "</thead>\n",
       "<tbody>\n",
       "\t<tr><td>FALSE</td><td>FALSE</td><td>0.5754597</td></tr>\n",
       "\t<tr><td>FALSE</td><td> TRUE</td><td>0.4459619</td></tr>\n",
       "\t<tr><td> TRUE</td><td>FALSE</td><td>0.5733862</td></tr>\n",
       "\t<tr><td> TRUE</td><td> TRUE</td><td>0.4907615</td></tr>\n",
       "</tbody>\n",
       "</table>\n"
      ],
      "text/latex": [
       "A grouped_df: 4 × 3\n",
       "\\begin{tabular}{r|lll}\n",
       " post93 & anykids & mean\\\\\n",
       " <lgl> & <lgl> & <dbl>\\\\\n",
       "\\hline\n",
       "\t FALSE & FALSE & 0.5754597\\\\\n",
       "\t FALSE &  TRUE & 0.4459619\\\\\n",
       "\t  TRUE & FALSE & 0.5733862\\\\\n",
       "\t  TRUE &  TRUE & 0.4907615\\\\\n",
       "\\end{tabular}\n"
      ],
      "text/markdown": [
       "\n",
       "A grouped_df: 4 × 3\n",
       "\n",
       "| post93 &lt;lgl&gt; | anykids &lt;lgl&gt; | mean &lt;dbl&gt; |\n",
       "|---|---|---|\n",
       "| FALSE | FALSE | 0.5754597 |\n",
       "| FALSE |  TRUE | 0.4459619 |\n",
       "|  TRUE | FALSE | 0.5733862 |\n",
       "|  TRUE |  TRUE | 0.4907615 |\n",
       "\n"
      ],
      "text/plain": [
       "  post93 anykids mean     \n",
       "1 FALSE  FALSE   0.5754597\n",
       "2 FALSE   TRUE   0.4459619\n",
       "3  TRUE  FALSE   0.5733862\n",
       "4  TRUE   TRUE   0.4907615"
      ]
     },
     "metadata": {},
     "output_type": "display_data"
    }
   ],
   "source": [
    "data %>% group_by(post93,anykids) %>% summarize(mean = mean(work))"
   ]
  },
  {
   "cell_type": "code",
   "execution_count": 31,
   "metadata": {},
   "outputs": [
    {
     "name": "stderr",
     "output_type": "stream",
     "text": [
      "No summary function supplied, defaulting to `mean_se()\n"
     ]
    },
    {
     "data": {
      "image/png": "[encoded data removed]",
      "text/plain": [
       "plot without title"
      ]
     },
     "metadata": {},
     "output_type": "display_data"
    }
   ],
   "source": [
    "## Parallel Trends Assumption\n",
    "\n",
    "options(repr.plot.width=5, repr.plot.height=3)\n",
    "\n",
    "ggplot(data, aes(year, work, color = anykids)) +\n",
    "    stat_summary(geom = 'line') +\n",
    "    geom_vline(xintercept = 1994) +\n",
    "    theme_minimal()\n",
    "\n",
    "# => vor t_0 waren parallele trends - also erfüllt"
   ]
  },
  {
   "cell_type": "code",
   "execution_count": 32,
   "metadata": {},
   "outputs": [
    {
     "data": {
      "text/plain": [
       "\n",
       "Call:\n",
       "lm(formula = work ~ anykids * post93, data = data)\n",
       "\n",
       "Residuals:\n",
       "    Min      1Q  Median      3Q     Max \n",
       "-0.5755 -0.4908  0.4245  0.5092  0.5540 \n",
       "\n",
       "Coefficients:\n",
       "                        Estimate Std. Error t value Pr(>|t|)    \n",
       "(Intercept)             0.575460   0.008845  65.060  < 2e-16 ***\n",
       "anykidsTRUE            -0.129498   0.011676 -11.091  < 2e-16 ***\n",
       "post93TRUE             -0.002074   0.012931  -0.160  0.87261    \n",
       "anykidsTRUE:post93TRUE  0.046873   0.017158   2.732  0.00631 ** \n",
       "---\n",
       "Signif. codes:  0 ‘***’ 0.001 ‘**’ 0.01 ‘*’ 0.05 ‘.’ 0.1 ‘ ’ 1\n",
       "\n",
       "Residual standard error: 0.4967 on 13742 degrees of freedom\n",
       "Multiple R-squared:  0.0126,\tAdjusted R-squared:  0.01238 \n",
       "F-statistic: 58.45 on 3 and 13742 DF,  p-value: < 2.2e-16\n"
      ]
     },
     "metadata": {},
     "output_type": "display_data"
    }
   ],
   "source": [
    "## Modell\n",
    "model = lm(work ~ anykids*post93, data = data)\n",
    "summary(model)\n",
    "\n",
    "# EITC erhöhte Beschäftigung um ~5%, für Frauen mit einem Kind\n",
    "# => blaue Linie geht 45% auf 52% "
   ]
  }
 ],
 "metadata": {
  "kernelspec": {
   "display_name": "R",
   "language": "R",
   "name": "ir"
  },
  "language_info": {
   "codemirror_mode": "r",
   "file_extension": ".r",
   "mimetype": "text/x-r-source",
   "name": "R",
   "pygments_lexer": "r",
   "version": "3.5.1"
  },
  "toc": {
   "base_numbering": 1,
   "nav_menu": {},
   "number_sections": true,
   "sideBar": true,
   "skip_h1_title": false,
   "title_cell": "Table of Contents",
   "title_sidebar": "Contents",
   "toc_cell": false,
   "toc_position": {},
   "toc_section_display": true,
   "toc_window_display": false
  },
  "varInspector": {
   "cols": {
    "lenName": 16,
    "lenType": 16,
    "lenVar": 40
   },
   "kernels_config": {
    "python": {
     "delete_cmd_postfix": "",
     "delete_cmd_prefix": "del ",
     "library": "var_list.py",
     "varRefreshCmd": "print(var_dic_list())"
    },
    "r": {
     "delete_cmd_postfix": ") ",
     "delete_cmd_prefix": "rm(",
     "library": "var_list.r",
     "varRefreshCmd": "cat(var_dic_list()) "
    }
   },
   "types_to_exclude": [
    "module",
    "function",
    "builtin_function_or_method",
    "instance",
    "_Feature"
   ],
   "window_display": false
  }
 },
 "nbformat": 4,
 "nbformat_minor": 2
}
