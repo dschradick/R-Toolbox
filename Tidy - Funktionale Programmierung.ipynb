{
 "cells": [
  {
   "cell_type": "code",
   "execution_count": 18,
   "metadata": {},
   "outputs": [],
   "source": [
    "library(tidyverse)"
   ]
  },
  {
   "cell_type": "code",
   "execution_count": 3,
   "metadata": {},
   "outputs": [],
   "source": [
    "### First-class functions \n",
    "# - behave like other data structure\n",
    "# - eg. assign them to variables, store them in lists,\n",
    "#   pass as arguments to other functions, create them inside functions, \n",
    "#   and return them as  result of a function.\n",
    "\n",
    "\n",
    "### Pure functions\n",
    "# Need to satistiy two properties\n",
    "# 1. output only depends on the inputs\n",
    "#    eg. not Sys.time() => return different values\n",
    "# 2. no side-effects\n",
    "#    eg. changing  value of global variable, write to disk\n",
    "#        display on screen => eg. not print()\n",
    "# \n",
    "# Advantage:      easier to reason about\n",
    "# Disadvantages:  eg. can’t generate random numbers or read files\n",
    "\n",
    "### R and functional programming\n",
    "# ==> R is not a strict functional programming language,\n",
    "#     because it does not require pure functions\n",
    "\n",
    "# Writing pure function not necessary but:\n",
    "# 1. partitiones the code better\n",
    "# 2. easier to understand\n",
    "# ==> if possible to write pure function - should do it\n",
    "\n"
   ]
  },
  {
   "cell_type": "code",
   "execution_count": 4,
   "metadata": {},
   "outputs": [],
   "source": [
    "### Functional style\n",
    "# 1. decomposing a big problem into smaller pieces\n",
    "# 2. solve each piece with a function or combination of functions\n",
    "\n",
    "# - decompose components of the problem into \n",
    "#   isolated functions that operate independently\n",
    "# - each function  by itself simple & easy to understand\n",
    "# ==> complexityhandled by composing functions in different ways\n"
   ]
  },
  {
   "cell_type": "markdown",
   "metadata": {},
   "source": [
    "# Functionals"
   ]
  },
  {
   "cell_type": "code",
   "execution_count": 5,
   "metadata": {},
   "outputs": [],
   "source": [
    "#### Functionals\n",
    "# Are functions that\n",
    "# - that take  function as input\n",
    "# - return a vector as output\n",
    "# => often used as replacement for loops\n",
    "\n",
    "#### Allow to take\n",
    "# - function that solves the problem for a single input \n",
    "# - generalise it to handle any number of inputs\n",
    "# => important technique in data analysis\n",
    "\n",
    "\n",
    "\n",
    "#### Problem of loops\n",
    "# - very flexible \n",
    "# - conveys fact of iteration\n",
    "#   NOT what is to be done with result!!!\n",
    "# - same as \n",
    "#   while better than repeat\n",
    "#   for   better than while \n",
    "# ==> functional better than for loop\n",
    "#\n",
    "# !!! Reason: !!!\n",
    "# - each functional is tailored for specific task\n",
    "# - see functional => immediately known why it is being used\n",
    "\n",
    "\n",
    "## Examples\n",
    "# lapply(), apply(), and tapply()\n",
    "# purrr’s map()\n",
    "# mathematical functionals: integrate(), optim()\n"
   ]
  },
  {
   "cell_type": "code",
   "execution_count": 6,
   "metadata": {},
   "outputs": [
    {
     "data": {
      "text/html": [
       "0.499626839096658"
      ],
      "text/latex": [
       "0.499626839096658"
      ],
      "text/markdown": [
       "0.499626839096658"
      ],
      "text/plain": [
       "[1] 0.4996268"
      ]
     },
     "metadata": {},
     "output_type": "display_data"
    },
    {
     "data": {
      "text/html": [
       "0.50376554005174"
      ],
      "text/latex": [
       "0.50376554005174"
      ],
      "text/markdown": [
       "0.50376554005174"
      ],
      "text/plain": [
       "[1] 0.5037655"
      ]
     },
     "metadata": {},
     "output_type": "display_data"
    },
    {
     "data": {
      "text/html": [
       "504.353126598755"
      ],
      "text/latex": [
       "504.353126598755"
      ],
      "text/markdown": [
       "504.353126598755"
      ],
      "text/plain": [
       "[1] 504.3531"
      ]
     },
     "metadata": {},
     "output_type": "display_data"
    }
   ],
   "source": [
    "## Example\n",
    "\n",
    "# randomise <- function(f) f(runif(1000))\n",
    "\n",
    "randomise <- function(func){ \n",
    "    func(runif(n=1000))\n",
    "}\n",
    "\n",
    "randomise(mean)\n",
    "randomise(mean)\n",
    "randomise(sum)\n"
   ]
  },
  {
   "cell_type": "markdown",
   "metadata": {},
   "source": [
    "## map(): fundamental functional"
   ]
  },
  {
   "cell_type": "code",
   "execution_count": 7,
   "metadata": {},
   "outputs": [
    {
     "data": {
      "text/html": [
       "<ol>\n",
       "\t<li>3</li>\n",
       "\t<li>6</li>\n",
       "\t<li>9</li>\n",
       "</ol>\n"
      ],
      "text/latex": [
       "\\begin{enumerate}\n",
       "\\item 3\n",
       "\\item 6\n",
       "\\item 9\n",
       "\\end{enumerate}\n"
      ],
      "text/markdown": [
       "1. 3\n",
       "2. 6\n",
       "3. 9\n",
       "\n",
       "\n"
      ],
      "text/plain": [
       "[[1]]\n",
       "[1] 3\n",
       "\n",
       "[[2]]\n",
       "[1] 6\n",
       "\n",
       "[[3]]\n",
       "[1] 9\n"
      ]
     },
     "metadata": {},
     "output_type": "display_data"
    }
   ],
   "source": [
    "# map()\n",
    "# - takes:\n",
    "#  1. vector \n",
    "#  2. function\n",
    "# - calls the function once for each element of the vector\n",
    "# - returns results in a list\n",
    "\n",
    "# \"map\": \n",
    "# “Operation that associates each element of a given set \n",
    "#  with one or more elements of a second set”\n",
    "\n",
    "## map() is lapply()\n",
    "# difference = lapply() does not support helpers \n",
    "\n",
    "#### purrr::map()\n",
    "#  written in C, preserves names, and supports several shortcuts\n",
    "\n",
    "\n",
    "\n",
    "triple <- function(x) x * 3\n",
    "map(1:3, triple)"
   ]
  },
  {
   "cell_type": "code",
   "execution_count": 8,
   "metadata": {},
   "outputs": [],
   "source": [
    "## Basic Idea: map() implementation\n",
    "\n",
    "my_map <- function(x, f, ...) {\n",
    "  out <- vector(\"list\", length(x))\n",
    "  for (i in seq_along(x)) {\n",
    "    out[[i]] <- f(x[[i]], ...)\n",
    "  }\n",
    "  out\n",
    "}"
   ]
  },
  {
   "cell_type": "markdown",
   "metadata": {},
   "source": [
    "### Atomic Vectors of specified type"
   ]
  },
  {
   "cell_type": "code",
   "execution_count": 9,
   "metadata": {},
   "outputs": [],
   "source": [
    "#### Base R\n",
    "# Two apply functions to return atomic vectors: \n",
    "# 1. sapply() \n",
    "#   => avoid, because tries to simplify result, \n",
    "#      (can return a list, a vector, or a matrix)\n",
    "#.  ==> diffcult to program\n",
    "# 2. vapply()\n",
    "#   => safer - allows  to provide a template\n",
    "#      FUN.VALUE - describes output shape\n",
    "#      BUT more verbose\n",
    "# \n",
    "### Equivalent:\n",
    "#\n",
    "# map_dbl(x, mean, na.rm = TRUE) \n",
    "# == \n",
    "# vapply(x, mean, na.rm = TRUE, FUN.VALUE = double(1))"
   ]
  },
  {
   "cell_type": "code",
   "execution_count": 10,
   "metadata": {},
   "outputs": [
    {
     "name": "stdout",
     "output_type": "stream",
     "text": [
      "$mpg\n",
      "[1] 20.09062\n",
      "\n",
      "$cyl\n",
      "[1] 6.1875\n",
      "\n",
      "$disp\n",
      "[1] 230.7219\n",
      "\n"
     ]
    }
   ],
   "source": [
    "### map() returns a list\n",
    "\n",
    "print(map(mtcars[,1:3], mean))\n",
    "\n",
    "# ...vs..."
   ]
  },
  {
   "cell_type": "code",
   "execution_count": 11,
   "metadata": {},
   "outputs": [
    {
     "name": "stdout",
     "output_type": "stream",
     "text": [
      "      mpg       cyl      disp \n",
      " 20.09062   6.18750 230.72188 \n"
     ]
    }
   ],
   "source": [
    "# map_dbl() \n",
    "# => returns double vector\n",
    "print(map_dbl(mtcars[,1:3], mean))"
   ]
  },
  {
   "cell_type": "code",
   "execution_count": 12,
   "metadata": {},
   "outputs": [
    {
     "name": "stdout",
     "output_type": "stream",
     "text": [
      "     mpg      cyl     disp \n",
      "\"double\" \"double\" \"double\" \n",
      " mpg  cyl disp \n",
      "TRUE TRUE TRUE \n",
      " mpg  cyl disp \n",
      "  25    3   27 \n"
     ]
    }
   ],
   "source": [
    "### Vectors of specified type\n",
    "\n",
    "### map_chr() \n",
    "# => returns character vector\n",
    "print(map_chr(mtcars[,1:3], typeof))\n",
    "\n",
    "### map_lgl() \n",
    "# => returns logical vector\n",
    "print(map_lgl(mtcars[,1:3], is.double))\n",
    "\n",
    "### map_int()\n",
    "# => returns integer vector\n",
    "n_unique <- function(x) length(unique(x))\n",
    "print(map_int(mtcars[,1:3], n_unique))\n"
   ]
  },
  {
   "cell_type": "markdown",
   "metadata": {},
   "source": [
    "### Anonymous functions and shortcuts"
   ]
  },
  {
   "cell_type": "code",
   "execution_count": 13,
   "metadata": {},
   "outputs": [
    {
     "name": "stdout",
     "output_type": "stream",
     "text": [
      " mpg  cyl disp   hp drat   wt qsec   vs   am gear carb \n",
      "  25    3   27   22   22   29   30    2    2    3    6 \n"
     ]
    }
   ],
   "source": [
    "### Using inline function\n",
    "print(map_dbl(mtcars, function(x) length(unique(x))))\n",
    "\n",
    "# => still very verbose -> shortcut"
   ]
  },
  {
   "cell_type": "code",
   "execution_count": 14,
   "metadata": {},
   "outputs": [
    {
     "name": "stdout",
     "output_type": "stream",
     "text": [
      " mpg  cyl disp   hp drat   wt qsec   vs   am gear carb \n",
      "  25    3   27   22   22   29   30    2    2    3    6 \n"
     ]
    }
   ],
   "source": [
    "## special shortcut in purr\n",
    "\n",
    "print(map_dbl(mtcars, ~ length(unique(.x))))"
   ]
  },
  {
   "cell_type": "code",
   "execution_count": 15,
   "metadata": {},
   "outputs": [
    {
     "data": {
      "text/html": [
       "<pre class=language-r><code>structure(function (..., .x = ..1, .y = ..2, . = ..1) \n",
       "length(unique(.x)), class = c(\"rlang_lambda_function\", \"function\"\n",
       "))</code></pre>"
      ],
      "text/latex": [
       "\\begin{minted}{r}\n",
       "structure(function (..., .x = ..1, .y = ..2, . = ..1) \n",
       "length(unique(.x)), class = c(\"rlang\\_lambda\\_function\", \"function\"\n",
       "))\n",
       "\\end{minted}"
      ],
      "text/markdown": [
       "```r\n",
       "structure(function (..., .x = ..1, .y = ..2, . = ..1) \n",
       "length(unique(.x)), class = c(\"rlang_lambda_function\", \"function\"\n",
       "))\n",
       "```"
      ],
      "text/plain": [
       "<lambda>\n",
       "function (..., .x = ..1, .y = ..2, . = ..1) \n",
       "length(unique(.x))\n",
       "attr(,\"class\")\n",
       "[1] \"rlang_lambda_function\" \"function\"             "
      ]
     },
     "metadata": {},
     "output_type": "display_data"
    }
   ],
   "source": [
    "### Reason: \n",
    "# purrr functions translate formulas, \n",
    "# created by ~ (pronounced “twiddle”), into functions\n",
    "\n",
    "# behind the scenes:\n",
    "as_mapper(~ length(unique(.x)))\n",
    "\n",
    "# => allows to refer to \n",
    "# - . for one argument functions, \n",
    "# - .x and .y. for two argument functions, \n",
    "# - ..1, ..2, ..3, for functions with arbitrary number of args\n",
    "\n"
   ]
  },
  {
   "cell_type": "code",
   "execution_count": 16,
   "metadata": {},
   "outputs": [
    {
     "name": "stdout",
     "output_type": "stream",
     "text": [
      "List of 3\n",
      " $ : num [1:2] 0.35 0.515\n",
      " $ : num [1:2] 0.706 0.767\n",
      " $ : num [1:2] 0.504 0.662\n"
     ]
    }
   ],
   "source": [
    "## for generating random data\n",
    "\n",
    "x <- map(1:3, ~ runif(2))\n",
    "str(x)"
   ]
  },
  {
   "cell_type": "code",
   "execution_count": 17,
   "metadata": {},
   "outputs": [
    {
     "data": {
      "text/html": [
       "<ol class=list-inline>\n",
       "\t<li>3</li>\n",
       "\t<li>5.5</li>\n",
       "</ol>\n"
      ],
      "text/latex": [
       "\\begin{enumerate*}\n",
       "\\item 3\n",
       "\\item 5.5\n",
       "\\end{enumerate*}\n"
      ],
      "text/markdown": [
       "1. 3\n",
       "2. 5.5\n",
       "\n",
       "\n"
      ],
      "text/plain": [
       "[1] 3.0 5.5"
      ]
     },
     "metadata": {},
     "output_type": "display_data"
    },
    {
     "data": {
      "text/html": [
       "<ol class=list-inline>\n",
       "\t<li>3</li>\n",
       "\t<li>5.5</li>\n",
       "</ol>\n"
      ],
      "text/latex": [
       "\\begin{enumerate*}\n",
       "\\item 3\n",
       "\\item 5.5\n",
       "\\end{enumerate*}\n"
      ],
      "text/markdown": [
       "1. 3\n",
       "2. 5.5\n",
       "\n",
       "\n"
      ],
      "text/plain": [
       "[1] 3.0 5.5"
      ]
     },
     "metadata": {},
     "output_type": "display_data"
    }
   ],
   "source": [
    "## Passing arguments with ...\n",
    "\n",
    "# passing to function itself\n",
    "x <- list(1:5, c(1:10, NA))\n",
    "map_dbl(x, ~ mean(.x, na.rm = TRUE))\n",
    "\n",
    "## Simpler version\n",
    "x <- list(1:5, c(1:10, NA))\n",
    "map_dbl(x, ~ mean(.x, na.rm = TRUE))\n",
    "\n",
    "\n"
   ]
  }
 ],
 "metadata": {
  "kernelspec": {
   "display_name": "R",
   "language": "R",
   "name": "ir"
  },
  "language_info": {
   "codemirror_mode": "r",
   "file_extension": ".r",
   "mimetype": "text/x-r-source",
   "name": "R",
   "pygments_lexer": "r",
   "version": "3.5.1"
  },
  "toc": {
   "base_numbering": 1,
   "nav_menu": {},
   "number_sections": true,
   "sideBar": true,
   "skip_h1_title": false,
   "title_cell": "Table of Contents",
   "title_sidebar": "Contents",
   "toc_cell": false,
   "toc_position": {},
   "toc_section_display": true,
   "toc_window_display": false
  },
  "varInspector": {
   "cols": {
    "lenName": 16,
    "lenType": 16,
    "lenVar": 40
   },
   "kernels_config": {
    "python": {
     "delete_cmd_postfix": "",
     "delete_cmd_prefix": "del ",
     "library": "var_list.py",
     "varRefreshCmd": "print(var_dic_list())"
    },
    "r": {
     "delete_cmd_postfix": ") ",
     "delete_cmd_prefix": "rm(",
     "library": "var_list.r",
     "varRefreshCmd": "cat(var_dic_list()) "
    }
   },
   "types_to_exclude": [
    "module",
    "function",
    "builtin_function_or_method",
    "instance",
    "_Feature"
   ],
   "window_display": false
  }
 },
 "nbformat": 4,
 "nbformat_minor": 2
}
